{
 "cells": [
  {
   "cell_type": "code",
   "execution_count": 102,
   "id": "87ae6b51-87c0-4b80-b4f7-ab107ef20717",
   "metadata": {
    "slideshow": {
     "slide_type": ""
    },
    "tags": []
   },
   "outputs": [],
   "source": [
    "import os\n",
    "import json\n",
    "import requests\n",
    "from pprint import pp\n",
    "import time\n",
    "import asyncio\n",
    "\n",
    "from joblib import Parallel, delayed\n",
    "import aiohttp\n",
    "import pandas as pd\n",
    "from ipywidgets import interact, interact_manual\n",
    "import seaborn as sns\n",
    "import matplotlib.pyplot as plt"
   ]
  },
  {
   "cell_type": "code",
   "execution_count": 86,
   "id": "aea60768",
   "metadata": {},
   "outputs": [],
   "source": [
    "import nest_asyncio\n",
    "nest_asyncio.apply()"
   ]
  },
  {
   "cell_type": "markdown",
   "id": "100136e5-73fc-4efa-a9a6-10caa9e81c24",
   "metadata": {},
   "source": [
    "## "
   ]
  },
  {
   "cell_type": "code",
   "execution_count": 14,
   "id": "423f2916-e8f2-4a42-81e6-21b6dac5aac6",
   "metadata": {},
   "outputs": [],
   "source": [
    "df = pd.read_csv(\"temperature_data.csv\")\n",
    "df = df.sort_values(by=[\"city\", \"timestamp\"]).reset_index(drop=True)"
   ]
  },
  {
   "cell_type": "markdown",
   "id": "5a593c94-c105-40b9-8c49-97301db9244f",
   "metadata": {},
   "source": [
    "# EDA"
   ]
  },
  {
   "cell_type": "markdown",
   "id": "0248bfe1-f069-452d-9adb-a59a380bfaf1",
   "metadata": {},
   "source": [
    "### Rolling mean"
   ]
  },
  {
   "cell_type": "code",
   "execution_count": 15,
   "id": "874fef29-0d6d-48e0-8d23-a09e29426043",
   "metadata": {},
   "outputs": [
    {
     "name": "stdout",
     "output_type": "stream",
     "text": [
      "CPU times: user 2 µs, sys: 1 µs, total: 3 µs\n",
      "Wall time: 7.15 µs\n"
     ]
    },
    {
     "data": {
      "text/html": [
       "<div>\n",
       "<style scoped>\n",
       "    .dataframe tbody tr th:only-of-type {\n",
       "        vertical-align: middle;\n",
       "    }\n",
       "\n",
       "    .dataframe tbody tr th {\n",
       "        vertical-align: top;\n",
       "    }\n",
       "\n",
       "    .dataframe thead th {\n",
       "        text-align: right;\n",
       "    }\n",
       "</style>\n",
       "<table border=\"1\" class=\"dataframe\">\n",
       "  <thead>\n",
       "    <tr style=\"text-align: right;\">\n",
       "      <th></th>\n",
       "      <th>city</th>\n",
       "      <th>timestamp</th>\n",
       "      <th>temperature</th>\n",
       "      <th>season</th>\n",
       "      <th>rolling_mean</th>\n",
       "    </tr>\n",
       "  </thead>\n",
       "  <tbody>\n",
       "    <tr>\n",
       "      <th>54745</th>\n",
       "      <td>Tokyo</td>\n",
       "      <td>2019-12-25</td>\n",
       "      <td>16.445986</td>\n",
       "      <td>winter</td>\n",
       "      <td>9.080301</td>\n",
       "    </tr>\n",
       "    <tr>\n",
       "      <th>54746</th>\n",
       "      <td>Tokyo</td>\n",
       "      <td>2019-12-26</td>\n",
       "      <td>3.555002</td>\n",
       "      <td>winter</td>\n",
       "      <td>8.364669</td>\n",
       "    </tr>\n",
       "    <tr>\n",
       "      <th>54747</th>\n",
       "      <td>Tokyo</td>\n",
       "      <td>2019-12-27</td>\n",
       "      <td>7.232076</td>\n",
       "      <td>winter</td>\n",
       "      <td>8.090793</td>\n",
       "    </tr>\n",
       "    <tr>\n",
       "      <th>54748</th>\n",
       "      <td>Tokyo</td>\n",
       "      <td>2019-12-28</td>\n",
       "      <td>5.602815</td>\n",
       "      <td>winter</td>\n",
       "      <td>7.890499</td>\n",
       "    </tr>\n",
       "    <tr>\n",
       "      <th>54749</th>\n",
       "      <td>Tokyo</td>\n",
       "      <td>2019-12-29</td>\n",
       "      <td>10.444926</td>\n",
       "      <td>winter</td>\n",
       "      <td>7.5479</td>\n",
       "    </tr>\n",
       "  </tbody>\n",
       "</table>\n",
       "</div>"
      ],
      "text/plain": [
       "        city   timestamp  temperature  season rolling_mean\n",
       "54745  Tokyo  2019-12-25    16.445986  winter     9.080301\n",
       "54746  Tokyo  2019-12-26     3.555002  winter     8.364669\n",
       "54747  Tokyo  2019-12-27     7.232076  winter     8.090793\n",
       "54748  Tokyo  2019-12-28     5.602815  winter     7.890499\n",
       "54749  Tokyo  2019-12-29    10.444926  winter       7.5479"
      ]
     },
     "execution_count": 15,
     "metadata": {},
     "output_type": "execute_result"
    }
   ],
   "source": [
    "# First variant: iterate through all the cities an compute rolling mean for each\n",
    "\n",
    "%time\n",
    "df[\"rolling_mean\"] = None\n",
    "for city in df[\"city\"].unique():\n",
    "    df.loc[df.city == city, \"rolling_mean\"] = df.loc[df.city == city, \"temperature\"].rolling(window=30).mean()\n",
    "\n",
    "df.tail()"
   ]
  },
  {
   "cell_type": "code",
   "execution_count": 16,
   "id": "b9894a84-7770-4118-9b16-487eb6ad3670",
   "metadata": {},
   "outputs": [],
   "source": [
    "def add_rolling_mean(x):\n",
    "    return x.assign(rolling_mean=x[\"temperature\"].rolling(window=30).mean())"
   ]
  },
  {
   "cell_type": "code",
   "execution_count": 17,
   "id": "d97d129c-b3f2-4baf-bc08-1a2708251099",
   "metadata": {},
   "outputs": [
    {
     "name": "stdout",
     "output_type": "stream",
     "text": [
      "CPU times: user 4 µs, sys: 2 µs, total: 6 µs\n",
      "Wall time: 11 µs\n"
     ]
    },
    {
     "data": {
      "text/html": [
       "<div>\n",
       "<style scoped>\n",
       "    .dataframe tbody tr th:only-of-type {\n",
       "        vertical-align: middle;\n",
       "    }\n",
       "\n",
       "    .dataframe tbody tr th {\n",
       "        vertical-align: top;\n",
       "    }\n",
       "\n",
       "    .dataframe thead th {\n",
       "        text-align: right;\n",
       "    }\n",
       "</style>\n",
       "<table border=\"1\" class=\"dataframe\">\n",
       "  <thead>\n",
       "    <tr style=\"text-align: right;\">\n",
       "      <th></th>\n",
       "      <th>city</th>\n",
       "      <th>timestamp</th>\n",
       "      <th>temperature</th>\n",
       "      <th>season</th>\n",
       "      <th>rolling_mean</th>\n",
       "    </tr>\n",
       "  </thead>\n",
       "  <tbody>\n",
       "    <tr>\n",
       "      <th>54745</th>\n",
       "      <td>Tokyo</td>\n",
       "      <td>2019-12-25</td>\n",
       "      <td>16.445986</td>\n",
       "      <td>winter</td>\n",
       "      <td>9.080301</td>\n",
       "    </tr>\n",
       "    <tr>\n",
       "      <th>54746</th>\n",
       "      <td>Tokyo</td>\n",
       "      <td>2019-12-26</td>\n",
       "      <td>3.555002</td>\n",
       "      <td>winter</td>\n",
       "      <td>8.364669</td>\n",
       "    </tr>\n",
       "    <tr>\n",
       "      <th>54747</th>\n",
       "      <td>Tokyo</td>\n",
       "      <td>2019-12-27</td>\n",
       "      <td>7.232076</td>\n",
       "      <td>winter</td>\n",
       "      <td>8.090793</td>\n",
       "    </tr>\n",
       "    <tr>\n",
       "      <th>54748</th>\n",
       "      <td>Tokyo</td>\n",
       "      <td>2019-12-28</td>\n",
       "      <td>5.602815</td>\n",
       "      <td>winter</td>\n",
       "      <td>7.890499</td>\n",
       "    </tr>\n",
       "    <tr>\n",
       "      <th>54749</th>\n",
       "      <td>Tokyo</td>\n",
       "      <td>2019-12-29</td>\n",
       "      <td>10.444926</td>\n",
       "      <td>winter</td>\n",
       "      <td>7.547900</td>\n",
       "    </tr>\n",
       "  </tbody>\n",
       "</table>\n",
       "</div>"
      ],
      "text/plain": [
       "        city   timestamp  temperature  season  rolling_mean\n",
       "54745  Tokyo  2019-12-25    16.445986  winter      9.080301\n",
       "54746  Tokyo  2019-12-26     3.555002  winter      8.364669\n",
       "54747  Tokyo  2019-12-27     7.232076  winter      8.090793\n",
       "54748  Tokyo  2019-12-28     5.602815  winter      7.890499\n",
       "54749  Tokyo  2019-12-29    10.444926  winter      7.547900"
      ]
     },
     "execution_count": 17,
     "metadata": {},
     "output_type": "execute_result"
    }
   ],
   "source": [
    "# Second variant: perform computations for each city in a separate process\n",
    "%time\n",
    "out = Parallel(n_jobs=4)(delayed(add_rolling_mean)(df.loc[df.city == city]) for city in df[\"city\"].unique())\n",
    "df = pd.concat(out)\n",
    "df.tail()"
   ]
  },
  {
   "cell_type": "markdown",
   "id": "06c96096-abee-400c-a7f9-5f61332dfaeb",
   "metadata": {},
   "source": [
    "**Result:** Multiprocessing is slower.\n",
    "\n",
    "Possibly, due to the high cost of creating new resources combined with the low complexity of the task. "
   ]
  },
  {
   "cell_type": "markdown",
   "id": "bbd86cd8-3784-41da-8021-b437d21916ec",
   "metadata": {},
   "source": [
    "### Mean and std for each city/season"
   ]
  },
  {
   "cell_type": "code",
   "execution_count": 18,
   "id": "7f622383-81e2-454a-bf0c-3eb10aa7102b",
   "metadata": {},
   "outputs": [
    {
     "data": {
      "text/html": [
       "<div>\n",
       "<style scoped>\n",
       "    .dataframe tbody tr th:only-of-type {\n",
       "        vertical-align: middle;\n",
       "    }\n",
       "\n",
       "    .dataframe tbody tr th {\n",
       "        vertical-align: top;\n",
       "    }\n",
       "\n",
       "    .dataframe thead th {\n",
       "        text-align: right;\n",
       "    }\n",
       "</style>\n",
       "<table border=\"1\" class=\"dataframe\">\n",
       "  <thead>\n",
       "    <tr style=\"text-align: right;\">\n",
       "      <th></th>\n",
       "      <th>city</th>\n",
       "      <th>season</th>\n",
       "      <th>temperature_mean</th>\n",
       "      <th>temperature_std</th>\n",
       "    </tr>\n",
       "  </thead>\n",
       "  <tbody>\n",
       "    <tr>\n",
       "      <th>0</th>\n",
       "      <td>Beijing</td>\n",
       "      <td>autumn</td>\n",
       "      <td>16.017467</td>\n",
       "      <td>4.973704</td>\n",
       "    </tr>\n",
       "    <tr>\n",
       "      <th>1</th>\n",
       "      <td>Beijing</td>\n",
       "      <td>spring</td>\n",
       "      <td>13.159323</td>\n",
       "      <td>5.242320</td>\n",
       "    </tr>\n",
       "    <tr>\n",
       "      <th>2</th>\n",
       "      <td>Beijing</td>\n",
       "      <td>summer</td>\n",
       "      <td>27.075768</td>\n",
       "      <td>4.861994</td>\n",
       "    </tr>\n",
       "    <tr>\n",
       "      <th>3</th>\n",
       "      <td>Beijing</td>\n",
       "      <td>winter</td>\n",
       "      <td>-1.922736</td>\n",
       "      <td>5.163958</td>\n",
       "    </tr>\n",
       "    <tr>\n",
       "      <th>4</th>\n",
       "      <td>Berlin</td>\n",
       "      <td>autumn</td>\n",
       "      <td>11.185098</td>\n",
       "      <td>5.084606</td>\n",
       "    </tr>\n",
       "  </tbody>\n",
       "</table>\n",
       "</div>"
      ],
      "text/plain": [
       "      city  season  temperature_mean  temperature_std\n",
       "0  Beijing  autumn         16.017467         4.973704\n",
       "1  Beijing  spring         13.159323         5.242320\n",
       "2  Beijing  summer         27.075768         4.861994\n",
       "3  Beijing  winter         -1.922736         5.163958\n",
       "4   Berlin  autumn         11.185098         5.084606"
      ]
     },
     "execution_count": 18,
     "metadata": {},
     "output_type": "execute_result"
    }
   ],
   "source": [
    "df_stats = df.groupby(by=[\"city\", \"season\"], as_index=False).agg({\"temperature\": [\"mean\", \"std\"]})\n",
    "df_stats.columns = [\"_\".join(i) if i[1] != \"\" else i[0] for i in df_stats.columns]\n",
    "df_stats.head()"
   ]
  },
  {
   "cell_type": "markdown",
   "id": "49c1fc13-03e1-4148-a0cb-e4f47821cfa5",
   "metadata": {},
   "source": [
    "### Find anomalies"
   ]
  },
  {
   "cell_type": "code",
   "execution_count": 19,
   "id": "a348f9a5-a8ba-4d08-bc07-c989776101fc",
   "metadata": {},
   "outputs": [],
   "source": [
    "# merge stats to the data\n",
    "df = df.merge(df_stats, on=[\"city\", \"season\"], how=\"left\")"
   ]
  },
  {
   "cell_type": "code",
   "execution_count": 20,
   "id": "e0305e50-9b41-4425-a1df-1d452efc69f9",
   "metadata": {},
   "outputs": [],
   "source": [
    "df[\"anomaly\"] = 0\n",
    "\n",
    "condition = ((df[\"temperature\"] < df.temperature_mean - 2 * df.temperature_std) | \n",
    "             (df[\"temperature\"] > df.temperature_mean + 2 * df.temperature_std))\n",
    "\n",
    "df.loc[condition, \"anomaly\"] = 1"
   ]
  },
  {
   "cell_type": "code",
   "execution_count": 21,
   "id": "fd5f6cae-4459-4da1-9f82-c50f3967b301",
   "metadata": {},
   "outputs": [
    {
     "data": {
      "text/html": [
       "<div>\n",
       "<style scoped>\n",
       "    .dataframe tbody tr th:only-of-type {\n",
       "        vertical-align: middle;\n",
       "    }\n",
       "\n",
       "    .dataframe tbody tr th {\n",
       "        vertical-align: top;\n",
       "    }\n",
       "\n",
       "    .dataframe thead th {\n",
       "        text-align: right;\n",
       "    }\n",
       "</style>\n",
       "<table border=\"1\" class=\"dataframe\">\n",
       "  <thead>\n",
       "    <tr style=\"text-align: right;\">\n",
       "      <th></th>\n",
       "      <th>city</th>\n",
       "      <th>timestamp</th>\n",
       "      <th>temperature</th>\n",
       "      <th>season</th>\n",
       "      <th>rolling_mean</th>\n",
       "      <th>temperature_mean</th>\n",
       "      <th>temperature_std</th>\n",
       "      <th>anomaly</th>\n",
       "    </tr>\n",
       "  </thead>\n",
       "  <tbody>\n",
       "    <tr>\n",
       "      <th>0</th>\n",
       "      <td>Beijing</td>\n",
       "      <td>2010-01-01</td>\n",
       "      <td>-0.468425</td>\n",
       "      <td>winter</td>\n",
       "      <td>NaN</td>\n",
       "      <td>-1.922736</td>\n",
       "      <td>5.163958</td>\n",
       "      <td>0</td>\n",
       "    </tr>\n",
       "    <tr>\n",
       "      <th>1</th>\n",
       "      <td>Beijing</td>\n",
       "      <td>2010-01-02</td>\n",
       "      <td>11.562106</td>\n",
       "      <td>winter</td>\n",
       "      <td>NaN</td>\n",
       "      <td>-1.922736</td>\n",
       "      <td>5.163958</td>\n",
       "      <td>1</td>\n",
       "    </tr>\n",
       "    <tr>\n",
       "      <th>2</th>\n",
       "      <td>Beijing</td>\n",
       "      <td>2010-01-03</td>\n",
       "      <td>-4.999808</td>\n",
       "      <td>winter</td>\n",
       "      <td>NaN</td>\n",
       "      <td>-1.922736</td>\n",
       "      <td>5.163958</td>\n",
       "      <td>0</td>\n",
       "    </tr>\n",
       "    <tr>\n",
       "      <th>3</th>\n",
       "      <td>Beijing</td>\n",
       "      <td>2010-01-04</td>\n",
       "      <td>-1.695891</td>\n",
       "      <td>winter</td>\n",
       "      <td>NaN</td>\n",
       "      <td>-1.922736</td>\n",
       "      <td>5.163958</td>\n",
       "      <td>0</td>\n",
       "    </tr>\n",
       "    <tr>\n",
       "      <th>4</th>\n",
       "      <td>Beijing</td>\n",
       "      <td>2010-01-05</td>\n",
       "      <td>-9.744884</td>\n",
       "      <td>winter</td>\n",
       "      <td>NaN</td>\n",
       "      <td>-1.922736</td>\n",
       "      <td>5.163958</td>\n",
       "      <td>0</td>\n",
       "    </tr>\n",
       "    <tr>\n",
       "      <th>...</th>\n",
       "      <td>...</td>\n",
       "      <td>...</td>\n",
       "      <td>...</td>\n",
       "      <td>...</td>\n",
       "      <td>...</td>\n",
       "      <td>...</td>\n",
       "      <td>...</td>\n",
       "      <td>...</td>\n",
       "    </tr>\n",
       "    <tr>\n",
       "      <th>54745</th>\n",
       "      <td>Tokyo</td>\n",
       "      <td>2019-12-25</td>\n",
       "      <td>16.445986</td>\n",
       "      <td>winter</td>\n",
       "      <td>9.080301</td>\n",
       "      <td>6.297711</td>\n",
       "      <td>5.035026</td>\n",
       "      <td>1</td>\n",
       "    </tr>\n",
       "    <tr>\n",
       "      <th>54746</th>\n",
       "      <td>Tokyo</td>\n",
       "      <td>2019-12-26</td>\n",
       "      <td>3.555002</td>\n",
       "      <td>winter</td>\n",
       "      <td>8.364669</td>\n",
       "      <td>6.297711</td>\n",
       "      <td>5.035026</td>\n",
       "      <td>0</td>\n",
       "    </tr>\n",
       "    <tr>\n",
       "      <th>54747</th>\n",
       "      <td>Tokyo</td>\n",
       "      <td>2019-12-27</td>\n",
       "      <td>7.232076</td>\n",
       "      <td>winter</td>\n",
       "      <td>8.090793</td>\n",
       "      <td>6.297711</td>\n",
       "      <td>5.035026</td>\n",
       "      <td>0</td>\n",
       "    </tr>\n",
       "    <tr>\n",
       "      <th>54748</th>\n",
       "      <td>Tokyo</td>\n",
       "      <td>2019-12-28</td>\n",
       "      <td>5.602815</td>\n",
       "      <td>winter</td>\n",
       "      <td>7.890499</td>\n",
       "      <td>6.297711</td>\n",
       "      <td>5.035026</td>\n",
       "      <td>0</td>\n",
       "    </tr>\n",
       "    <tr>\n",
       "      <th>54749</th>\n",
       "      <td>Tokyo</td>\n",
       "      <td>2019-12-29</td>\n",
       "      <td>10.444926</td>\n",
       "      <td>winter</td>\n",
       "      <td>7.547900</td>\n",
       "      <td>6.297711</td>\n",
       "      <td>5.035026</td>\n",
       "      <td>0</td>\n",
       "    </tr>\n",
       "  </tbody>\n",
       "</table>\n",
       "<p>54750 rows × 8 columns</p>\n",
       "</div>"
      ],
      "text/plain": [
       "          city   timestamp  temperature  season  rolling_mean  \\\n",
       "0      Beijing  2010-01-01    -0.468425  winter           NaN   \n",
       "1      Beijing  2010-01-02    11.562106  winter           NaN   \n",
       "2      Beijing  2010-01-03    -4.999808  winter           NaN   \n",
       "3      Beijing  2010-01-04    -1.695891  winter           NaN   \n",
       "4      Beijing  2010-01-05    -9.744884  winter           NaN   \n",
       "...        ...         ...          ...     ...           ...   \n",
       "54745    Tokyo  2019-12-25    16.445986  winter      9.080301   \n",
       "54746    Tokyo  2019-12-26     3.555002  winter      8.364669   \n",
       "54747    Tokyo  2019-12-27     7.232076  winter      8.090793   \n",
       "54748    Tokyo  2019-12-28     5.602815  winter      7.890499   \n",
       "54749    Tokyo  2019-12-29    10.444926  winter      7.547900   \n",
       "\n",
       "       temperature_mean  temperature_std  anomaly  \n",
       "0             -1.922736         5.163958        0  \n",
       "1             -1.922736         5.163958        1  \n",
       "2             -1.922736         5.163958        0  \n",
       "3             -1.922736         5.163958        0  \n",
       "4             -1.922736         5.163958        0  \n",
       "...                 ...              ...      ...  \n",
       "54745          6.297711         5.035026        1  \n",
       "54746          6.297711         5.035026        0  \n",
       "54747          6.297711         5.035026        0  \n",
       "54748          6.297711         5.035026        0  \n",
       "54749          6.297711         5.035026        0  \n",
       "\n",
       "[54750 rows x 8 columns]"
      ]
     },
     "execution_count": 21,
     "metadata": {},
     "output_type": "execute_result"
    }
   ],
   "source": [
    "df"
   ]
  },
  {
   "cell_type": "markdown",
   "id": "4f7141ff-4bfb-426a-9f96-8c5846e3ccda",
   "metadata": {},
   "source": [
    "# OpenWeatherMap API"
   ]
  },
  {
   "cell_type": "code",
   "execution_count": 22,
   "id": "584e3cb5-d16d-4153-bac1-076112d5f908",
   "metadata": {},
   "outputs": [
    {
     "data": {
      "text/plain": [
       "True"
      ]
     },
     "execution_count": 22,
     "metadata": {},
     "output_type": "execute_result"
    }
   ],
   "source": [
    "from dotenv import load_dotenv\n",
    "load_dotenv()"
   ]
  },
  {
   "cell_type": "code",
   "execution_count": 54,
   "id": "1ba0a16b-529b-4766-be1d-8415292e6983",
   "metadata": {},
   "outputs": [],
   "source": [
    "API_KEY = os.getenv(\"OpenWeatherMapAPIKey\")\n",
    "URL_TEMPLATE = \"https://api.openweathermap.org/data/2.5/weather?q={city}&units=metric&appid={API_KEY}\""
   ]
  },
  {
   "cell_type": "markdown",
   "id": "1304c3c5",
   "metadata": {},
   "source": [
    "### View current temperature"
   ]
  },
  {
   "cell_type": "code",
   "execution_count": 55,
   "id": "23d0d767-bf14-4c8f-ae7c-785e00c912cb",
   "metadata": {},
   "outputs": [
    {
     "data": {
      "application/vnd.jupyter.widget-view+json": {
       "model_id": "79ca4f4e88c743779e97b7a848983bb8",
       "version_major": 2,
       "version_minor": 0
      },
      "text/plain": [
       "interactive(children=(Dropdown(description='city', options=('Beijing', 'Berlin', 'Cairo', 'Dubai', 'London', '…"
      ]
     },
     "metadata": {},
     "output_type": "display_data"
    }
   ],
   "source": [
    "@interact\n",
    "def show_current_weather(city=df[\"city\"].unique()):\n",
    "    resp = requests.get(URL_TEMPLATE.format(\n",
    "        city=city,\n",
    "        API_KEY=API_KEY\n",
    "    ))\n",
    "    pp(json.loads(resp.text))"
   ]
  },
  {
   "cell_type": "markdown",
   "id": "f94af426",
   "metadata": {},
   "source": [
    "### Detect anomalies"
   ]
  },
  {
   "cell_type": "code",
   "execution_count": 73,
   "id": "f69b8c82",
   "metadata": {},
   "outputs": [
    {
     "data": {
      "application/vnd.jupyter.widget-view+json": {
       "model_id": "40e4cc94e0f24116b7300e9bd668596f",
       "version_major": 2,
       "version_minor": 0
      },
      "text/plain": [
       "interactive(children=(Dropdown(description='city', options=('Beijing', 'Berlin', 'Cairo', 'Dubai', 'London', '…"
      ]
     },
     "metadata": {},
     "output_type": "display_data"
    }
   ],
   "source": [
    "@interact\n",
    "def show_current_weather_with_anomalies(city=df[\"city\"].unique()):\n",
    "    resp = requests.get(URL_TEMPLATE.format(\n",
    "        city=city,\n",
    "        API_KEY=API_KEY\n",
    "    ))\n",
    "    curr_temp = json.loads(resp.text)[\"main\"][\"temp\"]\n",
    "    normal_mean, normal_std = (df_stats\n",
    "                   .loc[(df_stats.city == city) & (df_stats.season == \"winter\"),\n",
    "                        [\"temperature_mean\", \"temperature_std\"]]\n",
    "                   .values[0])\n",
    "    is_anomaly_detected = \"not detected\"\n",
    "    if (curr_temp > normal_mean + 2 * normal_std) or (curr_temp < normal_mean - 2 * normal_std):\n",
    "        is_anomaly_detected = \"detected\"\n",
    "    \n",
    "    print(f\"City: {city}\")\n",
    "    print(f\"Normal temperture bounds: ({normal_mean - 2 * normal_std} 'C, {normal_mean + 2 * normal_std} 'C)\")\n",
    "    print(f\"Current temperature: {curr_temp} 'C, Anomaly {is_anomaly_detected}\")"
   ]
  },
  {
   "cell_type": "markdown",
   "id": "d39f4fb6",
   "metadata": {},
   "source": [
    "After testing all the cities, anomaly was detected in none of them. "
   ]
  },
  {
   "cell_type": "markdown",
   "id": "0b080a83",
   "metadata": {},
   "source": [
    "### Testing synchronious and asynchronioys requests.\n",
    "\n",
    "Let's try to retireive weather for all the cities at once"
   ]
  },
  {
   "cell_type": "code",
   "execution_count": 91,
   "id": "a39513ba",
   "metadata": {},
   "outputs": [
    {
     "name": "stdout",
     "output_type": "stream",
     "text": [
      "Synchronious time: 2.83 sec.\n"
     ]
    }
   ],
   "source": [
    "def get_weather_synch(city):\n",
    "    resp = requests.get(URL_TEMPLATE.format(\n",
    "        city=city,\n",
    "        API_KEY=API_KEY\n",
    "    ))\n",
    "    return json.loads(resp.text)\n",
    "\n",
    "start = time.time()\n",
    "for city in df.city.unique():\n",
    "    get_weather_synch(city)\n",
    "end = time.time()\n",
    "print(f\"Synchronious time: {end - start:.2f} sec.\")"
   ]
  },
  {
   "cell_type": "code",
   "execution_count": 92,
   "id": "e26b2276",
   "metadata": {},
   "outputs": [
    {
     "name": "stdout",
     "output_type": "stream",
     "text": [
      "Asynchronious time: 0.22 sec.\n"
     ]
    }
   ],
   "source": [
    "async def get_weather_asynch(city):\n",
    "    url = URL_TEMPLATE.format(\n",
    "        city=city,\n",
    "        API_KEY=API_KEY\n",
    "    )\n",
    "    async with aiohttp.ClientSession() as session:\n",
    "        async with session.get(url) as response:\n",
    "                content = await response.text()\n",
    "                return json.loads(content)\n",
    "            \n",
    "start = time.time()\n",
    "await asyncio.gather(*[get_weather_asynch(city) for city in df.city.unique()])\n",
    "end = time.time()\n",
    "print(f\"Asynchronious time: {end - start:.2f} sec.\")"
   ]
  },
  {
   "cell_type": "markdown",
   "id": "263ee62b",
   "metadata": {},
   "source": [
    "**Asynch** version is **muuuuuch** faster. Better to use it."
   ]
  },
  {
   "cell_type": "code",
   "execution_count": null,
   "id": "0b30e44d",
   "metadata": {},
   "outputs": [],
   "source": []
  }
 ],
 "metadata": {
  "kernelspec": {
   "display_name": "base_kernel",
   "language": "python",
   "name": "base_kernel"
  },
  "language_info": {
   "codemirror_mode": {
    "name": "ipython",
    "version": 3
   },
   "file_extension": ".py",
   "mimetype": "text/x-python",
   "name": "python",
   "nbconvert_exporter": "python",
   "pygments_lexer": "ipython3",
   "version": "3.10.13"
  }
 },
 "nbformat": 4,
 "nbformat_minor": 5
}
